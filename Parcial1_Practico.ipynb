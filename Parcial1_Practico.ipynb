{
 "cells": [
  {
   "cell_type": "markdown",
   "metadata": {},
   "source": [
    "# Parcial 1 - Parte práctica"
   ]
  },
  {
   "cell_type": "code",
   "execution_count": 255,
   "metadata": {},
   "outputs": [],
   "source": [
    "import pandas as pd\n",
    "import numpy as np\n",
    "import matplotlib.pyplot as plt\n",
    "from numpy import array\n",
    "from sklearn.model_selection import train_test_split, cross_val_score"
   ]
  },
  {
   "cell_type": "code",
   "execution_count": 3,
   "metadata": {},
   "outputs": [],
   "source": [
    "predTarjeta = pd.read_csv('Prediccion_Tarjeta.csv')\n",
    "datosTarjeta = pd.read_csv('Datos_Tarjeta_Credito.csv')"
   ]
  },
  {
   "cell_type": "markdown",
   "metadata": {},
   "source": [
    "### Pregunta 1: Problema de Decisión"
   ]
  },
  {
   "cell_type": "markdown",
   "metadata": {},
   "source": [
    "**Pregunta 1**. Plantear como un problema de decisión\n",
    "\n",
    "* *Espacio de opciones*: Se le ofrece o no se le ofrece al cliente la campaña\n",
    "* *Espacio de eventos*: Paga o no paga la deuda\n",
    "* *Consecuencias*: Perdemos 3000 o ganamos Deuda/2 - 3000"
   ]
  },
  {
   "cell_type": "markdown",
   "metadata": {},
   "source": [
    "### Procesamiento de datos"
   ]
  },
  {
   "cell_type": "code",
   "execution_count": 3,
   "metadata": {},
   "outputs": [
    {
     "data": {
      "text/plain": [
       "(3000, 23)"
      ]
     },
     "execution_count": 3,
     "metadata": {},
     "output_type": "execute_result"
    }
   ],
   "source": [
    "predTarjeta.shape"
   ]
  },
  {
   "cell_type": "code",
   "execution_count": 7,
   "metadata": {},
   "outputs": [
    {
     "data": {
      "text/plain": [
       "(27000, 24)"
      ]
     },
     "execution_count": 7,
     "metadata": {},
     "output_type": "execute_result"
    }
   ],
   "source": [
    "datosTarjeta.shape"
   ]
  },
  {
   "cell_type": "code",
   "execution_count": 8,
   "metadata": {},
   "outputs": [
    {
     "data": {
      "text/html": [
       "<div>\n",
       "<style scoped>\n",
       "    .dataframe tbody tr th:only-of-type {\n",
       "        vertical-align: middle;\n",
       "    }\n",
       "\n",
       "    .dataframe tbody tr th {\n",
       "        vertical-align: top;\n",
       "    }\n",
       "\n",
       "    .dataframe thead th {\n",
       "        text-align: right;\n",
       "    }\n",
       "</style>\n",
       "<table border=\"1\" class=\"dataframe\">\n",
       "  <thead>\n",
       "    <tr style=\"text-align: right;\">\n",
       "      <th></th>\n",
       "      <th>LIMIT_BAL</th>\n",
       "      <th>SEX</th>\n",
       "      <th>EDUCATION</th>\n",
       "      <th>MARRIAGE</th>\n",
       "      <th>AGE</th>\n",
       "      <th>PAY_0</th>\n",
       "      <th>PAY_2</th>\n",
       "      <th>PAY_3</th>\n",
       "      <th>PAY_4</th>\n",
       "      <th>PAY_5</th>\n",
       "      <th>...</th>\n",
       "      <th>BILL_AMT3</th>\n",
       "      <th>BILL_AMT4</th>\n",
       "      <th>BILL_AMT5</th>\n",
       "      <th>BILL_AMT6</th>\n",
       "      <th>PAY_AMT1</th>\n",
       "      <th>PAY_AMT2</th>\n",
       "      <th>PAY_AMT3</th>\n",
       "      <th>PAY_AMT4</th>\n",
       "      <th>PAY_AMT5</th>\n",
       "      <th>PAY_AMT6</th>\n",
       "    </tr>\n",
       "  </thead>\n",
       "  <tbody>\n",
       "    <tr>\n",
       "      <th>0</th>\n",
       "      <td>60000</td>\n",
       "      <td>1</td>\n",
       "      <td>2</td>\n",
       "      <td>1</td>\n",
       "      <td>49</td>\n",
       "      <td>1</td>\n",
       "      <td>-2</td>\n",
       "      <td>-2</td>\n",
       "      <td>-2</td>\n",
       "      <td>-2</td>\n",
       "      <td>...</td>\n",
       "      <td>0</td>\n",
       "      <td>0</td>\n",
       "      <td>0</td>\n",
       "      <td>0</td>\n",
       "      <td>0</td>\n",
       "      <td>0</td>\n",
       "      <td>0</td>\n",
       "      <td>0</td>\n",
       "      <td>0</td>\n",
       "      <td>0</td>\n",
       "    </tr>\n",
       "    <tr>\n",
       "      <th>1</th>\n",
       "      <td>60000</td>\n",
       "      <td>1</td>\n",
       "      <td>3</td>\n",
       "      <td>2</td>\n",
       "      <td>44</td>\n",
       "      <td>0</td>\n",
       "      <td>0</td>\n",
       "      <td>0</td>\n",
       "      <td>0</td>\n",
       "      <td>0</td>\n",
       "      <td>...</td>\n",
       "      <td>59198</td>\n",
       "      <td>31437</td>\n",
       "      <td>32113</td>\n",
       "      <td>33591</td>\n",
       "      <td>2300</td>\n",
       "      <td>2600</td>\n",
       "      <td>1600</td>\n",
       "      <td>1200</td>\n",
       "      <td>2000</td>\n",
       "      <td>1300</td>\n",
       "    </tr>\n",
       "    <tr>\n",
       "      <th>2</th>\n",
       "      <td>50000</td>\n",
       "      <td>2</td>\n",
       "      <td>3</td>\n",
       "      <td>1</td>\n",
       "      <td>48</td>\n",
       "      <td>0</td>\n",
       "      <td>0</td>\n",
       "      <td>0</td>\n",
       "      <td>0</td>\n",
       "      <td>-1</td>\n",
       "      <td>...</td>\n",
       "      <td>7857</td>\n",
       "      <td>3181</td>\n",
       "      <td>2430</td>\n",
       "      <td>780</td>\n",
       "      <td>1800</td>\n",
       "      <td>1506</td>\n",
       "      <td>6</td>\n",
       "      <td>2430</td>\n",
       "      <td>780</td>\n",
       "      <td>0</td>\n",
       "    </tr>\n",
       "    <tr>\n",
       "      <th>3</th>\n",
       "      <td>50000</td>\n",
       "      <td>1</td>\n",
       "      <td>3</td>\n",
       "      <td>1</td>\n",
       "      <td>48</td>\n",
       "      <td>0</td>\n",
       "      <td>0</td>\n",
       "      <td>0</td>\n",
       "      <td>0</td>\n",
       "      <td>0</td>\n",
       "      <td>...</td>\n",
       "      <td>42248</td>\n",
       "      <td>33855</td>\n",
       "      <td>28064</td>\n",
       "      <td>29660</td>\n",
       "      <td>5000</td>\n",
       "      <td>2000</td>\n",
       "      <td>2500</td>\n",
       "      <td>2500</td>\n",
       "      <td>2000</td>\n",
       "      <td>2500</td>\n",
       "    </tr>\n",
       "    <tr>\n",
       "      <th>4</th>\n",
       "      <td>130000</td>\n",
       "      <td>2</td>\n",
       "      <td>2</td>\n",
       "      <td>2</td>\n",
       "      <td>27</td>\n",
       "      <td>0</td>\n",
       "      <td>0</td>\n",
       "      <td>0</td>\n",
       "      <td>0</td>\n",
       "      <td>0</td>\n",
       "      <td>...</td>\n",
       "      <td>110317</td>\n",
       "      <td>108099</td>\n",
       "      <td>106028</td>\n",
       "      <td>104253</td>\n",
       "      <td>5578</td>\n",
       "      <td>4000</td>\n",
       "      <td>3863</td>\n",
       "      <td>3831</td>\n",
       "      <td>4136</td>\n",
       "      <td>5385</td>\n",
       "    </tr>\n",
       "  </tbody>\n",
       "</table>\n",
       "<p>5 rows × 23 columns</p>\n",
       "</div>"
      ],
      "text/plain": [
       "   LIMIT_BAL  SEX  EDUCATION  MARRIAGE  AGE  PAY_0  PAY_2  PAY_3  PAY_4  \\\n",
       "0      60000    1          2         1   49      1     -2     -2     -2   \n",
       "1      60000    1          3         2   44      0      0      0      0   \n",
       "2      50000    2          3         1   48      0      0      0      0   \n",
       "3      50000    1          3         1   48      0      0      0      0   \n",
       "4     130000    2          2         2   27      0      0      0      0   \n",
       "\n",
       "   PAY_5    ...     BILL_AMT3  BILL_AMT4  BILL_AMT5  BILL_AMT6  PAY_AMT1  \\\n",
       "0     -2    ...             0          0          0          0         0   \n",
       "1      0    ...         59198      31437      32113      33591      2300   \n",
       "2     -1    ...          7857       3181       2430        780      1800   \n",
       "3      0    ...         42248      33855      28064      29660      5000   \n",
       "4      0    ...        110317     108099     106028     104253      5578   \n",
       "\n",
       "   PAY_AMT2  PAY_AMT3  PAY_AMT4  PAY_AMT5  PAY_AMT6  \n",
       "0         0         0         0         0         0  \n",
       "1      2600      1600      1200      2000      1300  \n",
       "2      1506         6      2430       780         0  \n",
       "3      2000      2500      2500      2000      2500  \n",
       "4      4000      3863      3831      4136      5385  \n",
       "\n",
       "[5 rows x 23 columns]"
      ]
     },
     "execution_count": 8,
     "metadata": {},
     "output_type": "execute_result"
    }
   ],
   "source": [
    "predTarjeta.head(5)"
   ]
  },
  {
   "cell_type": "code",
   "execution_count": 109,
   "metadata": {},
   "outputs": [
    {
     "data": {
      "text/html": [
       "<div>\n",
       "<style scoped>\n",
       "    .dataframe tbody tr th:only-of-type {\n",
       "        vertical-align: middle;\n",
       "    }\n",
       "\n",
       "    .dataframe tbody tr th {\n",
       "        vertical-align: top;\n",
       "    }\n",
       "\n",
       "    .dataframe thead th {\n",
       "        text-align: right;\n",
       "    }\n",
       "</style>\n",
       "<table border=\"1\" class=\"dataframe\">\n",
       "  <thead>\n",
       "    <tr style=\"text-align: right;\">\n",
       "      <th></th>\n",
       "      <th>LIMIT_BAL</th>\n",
       "      <th>SEX</th>\n",
       "      <th>EDUCATION</th>\n",
       "      <th>MARRIAGE</th>\n",
       "      <th>AGE</th>\n",
       "      <th>PAY_0</th>\n",
       "      <th>PAY_2</th>\n",
       "      <th>PAY_3</th>\n",
       "      <th>PAY_4</th>\n",
       "      <th>PAY_5</th>\n",
       "      <th>...</th>\n",
       "      <th>BILL_AMT5</th>\n",
       "      <th>BILL_AMT6</th>\n",
       "      <th>PAY_AMT1</th>\n",
       "      <th>PAY_AMT2</th>\n",
       "      <th>PAY_AMT3</th>\n",
       "      <th>PAY_AMT4</th>\n",
       "      <th>PAY_AMT5</th>\n",
       "      <th>PAY_AMT6</th>\n",
       "      <th>y</th>\n",
       "      <th>y2</th>\n",
       "    </tr>\n",
       "  </thead>\n",
       "  <tbody>\n",
       "    <tr>\n",
       "      <th>0</th>\n",
       "      <td>490000</td>\n",
       "      <td>2</td>\n",
       "      <td>1</td>\n",
       "      <td>2</td>\n",
       "      <td>28</td>\n",
       "      <td>0</td>\n",
       "      <td>0</td>\n",
       "      <td>0</td>\n",
       "      <td>0</td>\n",
       "      <td>0</td>\n",
       "      <td>...</td>\n",
       "      <td>118899</td>\n",
       "      <td>79223</td>\n",
       "      <td>10041</td>\n",
       "      <td>7415</td>\n",
       "      <td>7025</td>\n",
       "      <td>44324</td>\n",
       "      <td>3119</td>\n",
       "      <td>2780</td>\n",
       "      <td>0</td>\n",
       "      <td>1</td>\n",
       "    </tr>\n",
       "    <tr>\n",
       "      <th>1</th>\n",
       "      <td>140000</td>\n",
       "      <td>1</td>\n",
       "      <td>1</td>\n",
       "      <td>2</td>\n",
       "      <td>25</td>\n",
       "      <td>-1</td>\n",
       "      <td>-1</td>\n",
       "      <td>-1</td>\n",
       "      <td>-1</td>\n",
       "      <td>-1</td>\n",
       "      <td>...</td>\n",
       "      <td>2561</td>\n",
       "      <td>1440</td>\n",
       "      <td>1844</td>\n",
       "      <td>1311</td>\n",
       "      <td>643</td>\n",
       "      <td>2561</td>\n",
       "      <td>1440</td>\n",
       "      <td>1582</td>\n",
       "      <td>0</td>\n",
       "      <td>1</td>\n",
       "    </tr>\n",
       "    <tr>\n",
       "      <th>2</th>\n",
       "      <td>100000</td>\n",
       "      <td>1</td>\n",
       "      <td>1</td>\n",
       "      <td>2</td>\n",
       "      <td>28</td>\n",
       "      <td>0</td>\n",
       "      <td>0</td>\n",
       "      <td>0</td>\n",
       "      <td>0</td>\n",
       "      <td>0</td>\n",
       "      <td>...</td>\n",
       "      <td>6741</td>\n",
       "      <td>-24</td>\n",
       "      <td>1400</td>\n",
       "      <td>1506</td>\n",
       "      <td>1209</td>\n",
       "      <td>0</td>\n",
       "      <td>0</td>\n",
       "      <td>0</td>\n",
       "      <td>0</td>\n",
       "      <td>1</td>\n",
       "    </tr>\n",
       "    <tr>\n",
       "      <th>3</th>\n",
       "      <td>500000</td>\n",
       "      <td>1</td>\n",
       "      <td>1</td>\n",
       "      <td>1</td>\n",
       "      <td>39</td>\n",
       "      <td>0</td>\n",
       "      <td>0</td>\n",
       "      <td>0</td>\n",
       "      <td>0</td>\n",
       "      <td>0</td>\n",
       "      <td>...</td>\n",
       "      <td>28926</td>\n",
       "      <td>11931</td>\n",
       "      <td>30006</td>\n",
       "      <td>23016</td>\n",
       "      <td>566</td>\n",
       "      <td>22323</td>\n",
       "      <td>11931</td>\n",
       "      <td>10683</td>\n",
       "      <td>0</td>\n",
       "      <td>1</td>\n",
       "    </tr>\n",
       "    <tr>\n",
       "      <th>4</th>\n",
       "      <td>550000</td>\n",
       "      <td>2</td>\n",
       "      <td>1</td>\n",
       "      <td>1</td>\n",
       "      <td>53</td>\n",
       "      <td>0</td>\n",
       "      <td>0</td>\n",
       "      <td>0</td>\n",
       "      <td>0</td>\n",
       "      <td>0</td>\n",
       "      <td>...</td>\n",
       "      <td>218096</td>\n",
       "      <td>210264</td>\n",
       "      <td>7110</td>\n",
       "      <td>7353</td>\n",
       "      <td>7534</td>\n",
       "      <td>7385</td>\n",
       "      <td>7253</td>\n",
       "      <td>15000</td>\n",
       "      <td>0</td>\n",
       "      <td>1</td>\n",
       "    </tr>\n",
       "  </tbody>\n",
       "</table>\n",
       "<p>5 rows × 25 columns</p>\n",
       "</div>"
      ],
      "text/plain": [
       "   LIMIT_BAL  SEX  EDUCATION  MARRIAGE  AGE  PAY_0  PAY_2  PAY_3  PAY_4  \\\n",
       "0     490000    2          1         2   28      0      0      0      0   \n",
       "1     140000    1          1         2   25     -1     -1     -1     -1   \n",
       "2     100000    1          1         2   28      0      0      0      0   \n",
       "3     500000    1          1         1   39      0      0      0      0   \n",
       "4     550000    2          1         1   53      0      0      0      0   \n",
       "\n",
       "   PAY_5 ...  BILL_AMT5  BILL_AMT6  PAY_AMT1  PAY_AMT2  PAY_AMT3  PAY_AMT4  \\\n",
       "0      0 ...     118899      79223     10041      7415      7025     44324   \n",
       "1     -1 ...       2561       1440      1844      1311       643      2561   \n",
       "2      0 ...       6741        -24      1400      1506      1209         0   \n",
       "3      0 ...      28926      11931     30006     23016       566     22323   \n",
       "4      0 ...     218096     210264      7110      7353      7534      7385   \n",
       "\n",
       "   PAY_AMT5  PAY_AMT6  y  y2  \n",
       "0      3119      2780  0   1  \n",
       "1      1440      1582  0   1  \n",
       "2         0         0  0   1  \n",
       "3     11931     10683  0   1  \n",
       "4      7253     15000  0   1  \n",
       "\n",
       "[5 rows x 25 columns]"
      ]
     },
     "execution_count": 109,
     "metadata": {},
     "output_type": "execute_result"
    }
   ],
   "source": [
    "datosTarjeta.head(5)"
   ]
  },
  {
   "cell_type": "code",
   "execution_count": 136,
   "metadata": {},
   "outputs": [],
   "source": [
    "lista_iniciales = datosTarjeta.LIMIT_BAL\n",
    "lista_unica = datosTarjeta.LIMIT_BAL.unique()\n",
    "c=[]\n",
    "p=[]\n",
    "\n",
    "for x in lista_unica:\n",
    "    n = 0\n",
    "    m=0\n",
    "    for i in range(0, len(lista_iniciales)):\n",
    "        if lista_iniciales[i] == x:\n",
    "            n += 1\n",
    "            if datosTarjeta.y[i]==1:\n",
    "                m+=1\n",
    "    c.append(n)\n",
    "    p.append(m)"
   ]
  },
  {
   "cell_type": "code",
   "execution_count": 137,
   "metadata": {},
   "outputs": [
    {
     "data": {
      "text/plain": [
       "<matplotlib.collections.PathCollection at 0x22c981ca58>"
      ]
     },
     "execution_count": 137,
     "metadata": {},
     "output_type": "execute_result"
    },
    {
     "data": {
      "image/png": "[encoded data removed]",
      "text/plain": [
       "<Figure size 432x288 with 1 Axes>"
      ]
     },
     "metadata": {
      "needs_background": "light"
     },
     "output_type": "display_data"
    }
   ],
   "source": [
    "plt.scatter(lista_unica,[x/y for x,y in zip(p,c)])"
   ]
  },
  {
   "cell_type": "markdown",
   "metadata": {},
   "source": [
    "### Modelado"
   ]
  },
  {
   "cell_type": "code",
   "execution_count": 64,
   "metadata": {},
   "outputs": [],
   "source": [
    "from sklearn.model_selection import train_test_split, GridSearchCV\n",
    "from sklearn.ensemble import RandomForestClassifier\n",
    "from sklearn.neighbors import KNeighborsClassifier\n",
    "from sklearn.tree import DecisionTreeClassifier\n",
    "from sklearn.linear_model import LogisticRegression\n",
    "from sklearn.metrics import f1_score, confusion_matrix"
   ]
  },
  {
   "cell_type": "code",
   "execution_count": 73,
   "metadata": {},
   "outputs": [],
   "source": [
    "X_train, X_test, y_train, y_test = train_test_split(\n",
    "    datosTarjeta.drop(['y'], axis=1), # X\n",
    "    datosTarjeta.y,  # y\n",
    "    test_size=0.2, # porcentaje que será prueba\n",
    "    random_state=42) # para fijar el aleatorio (reproducibilidad)"
   ]
  },
  {
   "cell_type": "markdown",
   "metadata": {},
   "source": [
    "#### Random Forest"
   ]
  },
  {
   "cell_type": "code",
   "execution_count": 7,
   "metadata": {},
   "outputs": [],
   "source": [
    "rf = RandomForestClassifier(n_estimators=50, n_jobs=-1)"
   ]
  },
  {
   "cell_type": "code",
   "execution_count": 8,
   "metadata": {},
   "outputs": [
    {
     "data": {
      "text/plain": [
       "RandomForestClassifier(bootstrap=True, class_weight=None, criterion='gini',\n",
       "            max_depth=None, max_features='auto', max_leaf_nodes=None,\n",
       "            min_impurity_decrease=0.0, min_impurity_split=None,\n",
       "            min_samples_leaf=1, min_samples_split=2,\n",
       "            min_weight_fraction_leaf=0.0, n_estimators=50, n_jobs=-1,\n",
       "            oob_score=False, random_state=None, verbose=0,\n",
       "            warm_start=False)"
      ]
     },
     "execution_count": 8,
     "metadata": {},
     "output_type": "execute_result"
    }
   ],
   "source": [
    "rf.fit(X_train,y_train)"
   ]
  },
  {
   "cell_type": "code",
   "execution_count": 9,
   "metadata": {},
   "outputs": [
    {
     "data": {
      "text/plain": [
       "0.45285029302077784"
      ]
     },
     "execution_count": 9,
     "metadata": {},
     "output_type": "execute_result"
    }
   ],
   "source": [
    "f1_score(y_test, rf.predict(X_test))"
   ]
  },
  {
   "cell_type": "code",
   "execution_count": 112,
   "metadata": {},
   "outputs": [
    {
     "name": "stdout",
     "output_type": "stream",
     "text": [
      "1\n",
      "2\n",
      "3\n",
      "4\n",
      "5\n",
      "6\n",
      "7\n",
      "8\n",
      "9\n"
     ]
    }
   ],
   "source": [
    "rf_cv=[]\n",
    "for i in range (1, 10):\n",
    "    print(i)\n",
    "    rf = rf = RandomForestClassifier(n_estimators=50, min_samples_split=i*10)\n",
    "    rf_cv.append(\n",
    "        cross_val_score(rf,\n",
    "                        X_train,\n",
    "                        y_train,\n",
    "                        cv=5,\n",
    "                        scoring='f1').mean())"
   ]
  },
  {
   "cell_type": "code",
   "execution_count": 114,
   "metadata": {},
   "outputs": [
    {
     "data": {
      "image/png": "[encoded data removed]",
      "text/plain": [
       "<Figure size 432x288 with 1 Axes>"
      ]
     },
     "metadata": {
      "needs_background": "light"
     },
     "output_type": "display_data"
    }
   ],
   "source": [
    "plt.plot([x*10 for x in range(1,10)], rf_cv)\n",
    "plt.show()"
   ]
  },
  {
   "cell_type": "code",
   "execution_count": 117,
   "metadata": {},
   "outputs": [
    {
     "name": "stdout",
     "output_type": "stream",
     "text": [
      "Fitting 5 folds for each of 10 candidates, totalling 50 fits\n"
     ]
    },
    {
     "name": "stderr",
     "output_type": "stream",
     "text": [
      "[Parallel(n_jobs=-1)]: Using backend LokyBackend with 4 concurrent workers.\n",
      "[Parallel(n_jobs=-1)]: Done  33 tasks      | elapsed:   43.7s\n",
      "[Parallel(n_jobs=-1)]: Done  50 out of  50 | elapsed:   59.2s finished\n"
     ]
    },
    {
     "data": {
      "text/plain": [
       "GridSearchCV(cv=5, error_score='raise-deprecating',\n",
       "       estimator=RandomForestClassifier(bootstrap=True, class_weight=None, criterion='gini',\n",
       "            max_depth=None, max_features='auto', max_leaf_nodes=None,\n",
       "            min_impurity_decrease=0.0, min_impurity_split=None,\n",
       "            min_samples_leaf=1, min_samples_split=90,\n",
       "            min_weight_fraction_leaf=0.0, n_estimators=50, n_jobs=None,\n",
       "            oob_score=False, random_state=None, verbose=0,\n",
       "            warm_start=False),\n",
       "       fit_params=None, iid='warn', n_jobs=-1,\n",
       "       param_grid={'min_samples_split': [60, 61, 62, 63, 64, 65, 66, 67, 68, 69]},\n",
       "       pre_dispatch='2*n_jobs', refit=True, return_train_score='warn',\n",
       "       scoring='f1', verbose=2)"
      ]
     },
     "execution_count": 117,
     "metadata": {},
     "output_type": "execute_result"
    }
   ],
   "source": [
    "grid={\n",
    "    'min_samples_split': [x for x in range (60,70)]\n",
    "}\n",
    "rf_cv=GridSearchCV(rf, grid, n_jobs=-1, cv=5, verbose=2, scoring='f1')\n",
    "rf_cv.fit(X_train, y_train)"
   ]
  },
  {
   "cell_type": "code",
   "execution_count": 118,
   "metadata": {},
   "outputs": [
    {
     "data": {
      "text/plain": [
       "{'min_samples_split': 68}"
      ]
     },
     "execution_count": 118,
     "metadata": {},
     "output_type": "execute_result"
    }
   ],
   "source": [
    "rf_cv.best_params_"
   ]
  },
  {
   "cell_type": "code",
   "execution_count": 119,
   "metadata": {},
   "outputs": [
    {
     "data": {
      "text/plain": [
       "0.4541963795940757"
      ]
     },
     "execution_count": 119,
     "metadata": {},
     "output_type": "execute_result"
    }
   ],
   "source": [
    "f1_score(y_test, rf_cv.predict(X_test))"
   ]
  },
  {
   "cell_type": "code",
   "execution_count": 120,
   "metadata": {},
   "outputs": [
    {
     "data": {
      "text/plain": [
       "0.47817801993273257"
      ]
     },
     "execution_count": 120,
     "metadata": {},
     "output_type": "execute_result"
    }
   ],
   "source": [
    "rf_cv.best_score_"
   ]
  },
  {
   "cell_type": "code",
   "execution_count": 121,
   "metadata": {},
   "outputs": [
    {
     "data": {
      "text/plain": [
       "array([[3991,  206],\n",
       "       [ 789,  414]], dtype=int64)"
      ]
     },
     "execution_count": 121,
     "metadata": {},
     "output_type": "execute_result"
    }
   ],
   "source": [
    "confusion_matrix(y_test,rf_cv.predict(X_test))"
   ]
  },
  {
   "cell_type": "markdown",
   "metadata": {},
   "source": [
    "#### KNN"
   ]
  },
  {
   "cell_type": "code",
   "execution_count": 81,
   "metadata": {},
   "outputs": [],
   "source": [
    "knn = KNeighborsClassifier(3)"
   ]
  },
  {
   "cell_type": "code",
   "execution_count": 82,
   "metadata": {},
   "outputs": [
    {
     "data": {
      "text/plain": [
       "KNeighborsClassifier(algorithm='auto', leaf_size=30, metric='minkowski',\n",
       "           metric_params=None, n_jobs=None, n_neighbors=3, p=2,\n",
       "           weights='uniform')"
      ]
     },
     "execution_count": 82,
     "metadata": {},
     "output_type": "execute_result"
    }
   ],
   "source": [
    "knn.fit(X_train, y_train)"
   ]
  },
  {
   "cell_type": "code",
   "execution_count": 85,
   "metadata": {},
   "outputs": [
    {
     "data": {
      "text/plain": [
       "0.29331993972877957"
      ]
     },
     "execution_count": 85,
     "metadata": {},
     "output_type": "execute_result"
    }
   ],
   "source": [
    "f1_score(y_test, knn.predict(X_test))"
   ]
  },
  {
   "cell_type": "code",
   "execution_count": 84,
   "metadata": {},
   "outputs": [
    {
     "data": {
      "text/plain": [
       "array([[3701,  496],\n",
       "       [ 911,  292]], dtype=int64)"
      ]
     },
     "execution_count": 84,
     "metadata": {},
     "output_type": "execute_result"
    }
   ],
   "source": [
    "confusion_matrix(y_test,knn.predict(X_test))"
   ]
  },
  {
   "cell_type": "code",
   "execution_count": 74,
   "metadata": {},
   "outputs": [
    {
     "name": "stdout",
     "output_type": "stream",
     "text": [
      "1\n",
      "2\n",
      "3\n",
      "4\n",
      "5\n",
      "6\n",
      "7\n",
      "8\n",
      "9\n",
      "10\n",
      "11\n",
      "12\n",
      "13\n",
      "14\n",
      "15\n",
      "16\n",
      "17\n",
      "18\n",
      "19\n"
     ]
    }
   ],
   "source": [
    "knn_cv=[]\n",
    "for i in range (1, 20):\n",
    "    print(i)\n",
    "    knn =  KNeighborsClassifier(n_neighbors=i, n_jobs=-1)\n",
    "    knn_cv.append(\n",
    "        cross_val_score(knn,\n",
    "                        X_train,\n",
    "                        y_train,\n",
    "                        cv=5,\n",
    "                        scoring='f1').mean())"
   ]
  },
  {
   "cell_type": "code",
   "execution_count": 75,
   "metadata": {},
   "outputs": [
    {
     "data": {
      "image/png": "[encoded data removed]",
      "text/plain": [
       "<Figure size 432x288 with 1 Axes>"
      ]
     },
     "metadata": {
      "needs_background": "light"
     },
     "output_type": "display_data"
    }
   ],
   "source": [
    "plt.plot(range(1,20), knn_cv)\n",
    "plt.show()"
   ]
  },
  {
   "cell_type": "markdown",
   "metadata": {},
   "source": [
    "#### Logistic Regression"
   ]
  },
  {
   "cell_type": "code",
   "execution_count": 122,
   "metadata": {},
   "outputs": [],
   "source": [
    "lr = LogisticRegression(solver = 'liblinear')"
   ]
  },
  {
   "cell_type": "code",
   "execution_count": 123,
   "metadata": {},
   "outputs": [
    {
     "data": {
      "text/plain": [
       "LogisticRegression(C=1.0, class_weight=None, dual=False, fit_intercept=True,\n",
       "          intercept_scaling=1, max_iter=100, multi_class='warn',\n",
       "          n_jobs=None, penalty='l2', random_state=None, solver='liblinear',\n",
       "          tol=0.0001, verbose=0, warm_start=False)"
      ]
     },
     "execution_count": 123,
     "metadata": {},
     "output_type": "execute_result"
    }
   ],
   "source": [
    "lr.fit(X_train, y_train)"
   ]
  },
  {
   "cell_type": "code",
   "execution_count": 130,
   "metadata": {},
   "outputs": [
    {
     "data": {
      "text/plain": [
       "0.0"
      ]
     },
     "execution_count": 130,
     "metadata": {},
     "output_type": "execute_result"
    }
   ],
   "source": [
    "f1_score(y_train, lr.predict(X_train))"
   ]
  },
  {
   "cell_type": "code",
   "execution_count": 125,
   "metadata": {},
   "outputs": [
    {
     "data": {
      "text/plain": [
       "array([[4197,    0],\n",
       "       [1203,    0]], dtype=int64)"
      ]
     },
     "execution_count": 125,
     "metadata": {},
     "output_type": "execute_result"
    }
   ],
   "source": [
    "confusion_matrix(y_test,lr.predict(X_test))"
   ]
  },
  {
   "cell_type": "markdown",
   "metadata": {},
   "source": [
    "#### Decision Tree"
   ]
  },
  {
   "cell_type": "code",
   "execution_count": 98,
   "metadata": {},
   "outputs": [],
   "source": [
    "dt = DecisionTreeClassifier(max_depth=5)"
   ]
  },
  {
   "cell_type": "code",
   "execution_count": 99,
   "metadata": {},
   "outputs": [
    {
     "data": {
      "text/plain": [
       "DecisionTreeClassifier(class_weight=None, criterion='gini', max_depth=5,\n",
       "            max_features=None, max_leaf_nodes=None,\n",
       "            min_impurity_decrease=0.0, min_impurity_split=None,\n",
       "            min_samples_leaf=1, min_samples_split=2,\n",
       "            min_weight_fraction_leaf=0.0, presort=False, random_state=None,\n",
       "            splitter='best')"
      ]
     },
     "execution_count": 99,
     "metadata": {},
     "output_type": "execute_result"
    }
   ],
   "source": [
    "dt.fit(X_train, y_train)"
   ]
  },
  {
   "cell_type": "code",
   "execution_count": 100,
   "metadata": {},
   "outputs": [
    {
     "data": {
      "text/plain": [
       "0.4301929625425653"
      ]
     },
     "execution_count": 100,
     "metadata": {},
     "output_type": "execute_result"
    }
   ],
   "source": [
    "f1_score(y_test, dt.predict(X_test))"
   ]
  },
  {
   "cell_type": "code",
   "execution_count": 96,
   "metadata": {},
   "outputs": [],
   "source": [
    "dt_cv=[]\n",
    "for i in range (5, 30):\n",
    "    dt = DecisionTreeClassifier(max_depth=i)\n",
    "    dt_cv.append(\n",
    "        cross_val_score(dt,\n",
    "                        X_train,\n",
    "                        y_train,\n",
    "                        cv=5,\n",
    "                        scoring='f1').mean())"
   ]
  },
  {
   "cell_type": "code",
   "execution_count": 97,
   "metadata": {},
   "outputs": [
    {
     "data": {
      "image/png": "[encoded data removed]",
      "text/plain": [
       "<Figure size 432x288 with 1 Axes>"
      ]
     },
     "metadata": {
      "needs_background": "light"
     },
     "output_type": "display_data"
    }
   ],
   "source": [
    "plt.plot([x for x in range(5,30)],dt_cv)\n",
    "plt.show()"
   ]
  },
  {
   "cell_type": "markdown",
   "metadata": {},
   "source": [
    "##### Cross-Val Score"
   ]
  },
  {
   "cell_type": "code",
   "execution_count": 126,
   "metadata": {},
   "outputs": [
    {
     "data": {
      "text/plain": [
       "0.2744749014665372"
      ]
     },
     "execution_count": 126,
     "metadata": {},
     "output_type": "execute_result"
    }
   ],
   "source": [
    "#KNN\n",
    "cross_val_score(knn, X_train, y_train, cv=5, scoring='f1').mean()"
   ]
  },
  {
   "cell_type": "code",
   "execution_count": 128,
   "metadata": {},
   "outputs": [
    {
     "data": {
      "text/plain": [
       "0.7781018518518519"
      ]
     },
     "execution_count": 128,
     "metadata": {},
     "output_type": "execute_result"
    }
   ],
   "source": [
    "#Logistic Regression\n",
    "#Dice no tener bien implementado f1_score y le asigna 0\n",
    "#Se calcula el accuracy pero la matriz no está balanceada\n",
    "cross_val_score(lr, X_train, y_train, cv=5).mean()"
   ]
  },
  {
   "cell_type": "code",
   "execution_count": 105,
   "metadata": {},
   "outputs": [
    {
     "data": {
      "text/plain": [
       "0.4790882321411133"
      ]
     },
     "execution_count": 105,
     "metadata": {},
     "output_type": "execute_result"
    }
   ],
   "source": [
    "#Decision Tree\n",
    "cross_val_score(dt, X_train, y_train, cv=5, scoring='f1').mean()"
   ]
  },
  {
   "cell_type": "code",
   "execution_count": 106,
   "metadata": {},
   "outputs": [
    {
     "data": {
      "text/plain": [
       "0.4578326176378262"
      ]
     },
     "execution_count": 106,
     "metadata": {},
     "output_type": "execute_result"
    }
   ],
   "source": [
    "#Random Forest\n",
    "cross_val_score(rf, X_train, y_train, cv=5, scoring='f1').mean()"
   ]
  },
  {
   "cell_type": "markdown",
   "metadata": {},
   "source": [
    "### Mejor modelo - Random Forest"
   ]
  },
  {
   "cell_type": "markdown",
   "metadata": {},
   "source": [
    "**Pregunta 2**. Crear un estimador para los eventos inciertos\n",
    "\n",
    "* *Modelo*: Random Forest por tener el mayor f1 score con los test y un nivel decente de cross_val_score"
   ]
  },
  {
   "cell_type": "code",
   "execution_count": 132,
   "metadata": {},
   "outputs": [],
   "source": [
    "rf_final=rf_cv.best_estimator_"
   ]
  },
  {
   "cell_type": "code",
   "execution_count": 133,
   "metadata": {},
   "outputs": [
    {
     "data": {
      "text/plain": [
       "RandomForestClassifier(bootstrap=True, class_weight=None, criterion='gini',\n",
       "            max_depth=None, max_features='auto', max_leaf_nodes=None,\n",
       "            min_impurity_decrease=0.0, min_impurity_split=None,\n",
       "            min_samples_leaf=1, min_samples_split=68,\n",
       "            min_weight_fraction_leaf=0.0, n_estimators=50, n_jobs=None,\n",
       "            oob_score=False, random_state=None, verbose=0,\n",
       "            warm_start=False)"
      ]
     },
     "execution_count": 133,
     "metadata": {},
     "output_type": "execute_result"
    }
   ],
   "source": [
    "rf_final.fit(datosTarjeta.drop('y', axis=1), datosTarjeta.y)"
   ]
  },
  {
   "cell_type": "code",
   "execution_count": 134,
   "metadata": {},
   "outputs": [],
   "source": [
    "costo=3000\n",
    "proba_pago=0.5\n",
    "condonar=0.5"
   ]
  },
  {
   "cell_type": "code",
   "execution_count": 162,
   "metadata": {},
   "outputs": [],
   "source": [
    "decision_df=pd.DataFrame({\n",
    "    'y_class': rf_final.predict(predTarjeta),\n",
    "    'deuda': predTarjeta.BILL_AMT1,\n",
    "    'y_proba': rf_final.predict_proba(predTarjeta)[:,1],\n",
    "    'utilidad': predTarjeta.BILL_AMT1*condonar*proba_pago -costo\n",
    "})"
   ]
  },
  {
   "cell_type": "code",
   "execution_count": 163,
   "metadata": {},
   "outputs": [
    {
     "data": {
      "text/html": [
       "<div>\n",
       "<style scoped>\n",
       "    .dataframe tbody tr th:only-of-type {\n",
       "        vertical-align: middle;\n",
       "    }\n",
       "\n",
       "    .dataframe tbody tr th {\n",
       "        vertical-align: top;\n",
       "    }\n",
       "\n",
       "    .dataframe thead th {\n",
       "        text-align: right;\n",
       "    }\n",
       "</style>\n",
       "<table border=\"1\" class=\"dataframe\">\n",
       "  <thead>\n",
       "    <tr style=\"text-align: right;\">\n",
       "      <th></th>\n",
       "      <th>y_class</th>\n",
       "      <th>deuda</th>\n",
       "      <th>y_proba</th>\n",
       "      <th>utilidad</th>\n",
       "    </tr>\n",
       "  </thead>\n",
       "  <tbody>\n",
       "    <tr>\n",
       "      <th>21</th>\n",
       "      <td>1</td>\n",
       "      <td>291410</td>\n",
       "      <td>0.574184</td>\n",
       "      <td>69852.50</td>\n",
       "    </tr>\n",
       "    <tr>\n",
       "      <th>24</th>\n",
       "      <td>1</td>\n",
       "      <td>60455</td>\n",
       "      <td>0.732682</td>\n",
       "      <td>12113.75</td>\n",
       "    </tr>\n",
       "    <tr>\n",
       "      <th>26</th>\n",
       "      <td>1</td>\n",
       "      <td>38503</td>\n",
       "      <td>0.816414</td>\n",
       "      <td>6625.75</td>\n",
       "    </tr>\n",
       "    <tr>\n",
       "      <th>40</th>\n",
       "      <td>1</td>\n",
       "      <td>1548</td>\n",
       "      <td>0.513808</td>\n",
       "      <td>-2613.00</td>\n",
       "    </tr>\n",
       "    <tr>\n",
       "      <th>54</th>\n",
       "      <td>1</td>\n",
       "      <td>109887</td>\n",
       "      <td>0.646714</td>\n",
       "      <td>24471.75</td>\n",
       "    </tr>\n",
       "  </tbody>\n",
       "</table>\n",
       "</div>"
      ],
      "text/plain": [
       "    y_class   deuda   y_proba  utilidad\n",
       "21        1  291410  0.574184  69852.50\n",
       "24        1   60455  0.732682  12113.75\n",
       "26        1   38503  0.816414   6625.75\n",
       "40        1    1548  0.513808  -2613.00\n",
       "54        1  109887  0.646714  24471.75"
      ]
     },
     "execution_count": 163,
     "metadata": {},
     "output_type": "execute_result"
    }
   ],
   "source": [
    "c=decision_df.loc[decision_df['y_class'] == 1]\n",
    "c.head()"
   ]
  },
  {
   "cell_type": "code",
   "execution_count": 164,
   "metadata": {},
   "outputs": [
    {
     "data": {
      "image/png": "[encoded data removed]",
      "text/plain": [
       "<Figure size 432x288 with 1 Axes>"
      ]
     },
     "metadata": {
      "needs_background": "light"
     },
     "output_type": "display_data"
    }
   ],
   "source": [
    "(\n",
    "    c\n",
    "    .sort_values(by='y_proba', ascending=True)\n",
    "    .assign(utilidad_acum = lambda x: x.utilidad.cumsum())\n",
    "    .reset_index()\n",
    "    .plot(y='utilidad_acum')\n",
    ")\n",
    "plt.show()"
   ]
  },
  {
   "cell_type": "markdown",
   "metadata": {},
   "source": [
    "**Pregunta 3**. Encuentra el número de clientes a los cuales debes ofrecer el esquema\n",
    "\n",
    "* *Clientes*: 312\n"
   ]
  },
  {
   "cell_type": "code",
   "execution_count": 268,
   "metadata": {},
   "outputs": [
    {
     "data": {
      "text/html": [
       "<div>\n",
       "<style scoped>\n",
       "    .dataframe tbody tr th:only-of-type {\n",
       "        vertical-align: middle;\n",
       "    }\n",
       "\n",
       "    .dataframe tbody tr th {\n",
       "        vertical-align: top;\n",
       "    }\n",
       "\n",
       "    .dataframe thead th {\n",
       "        text-align: right;\n",
       "    }\n",
       "</style>\n",
       "<table border=\"1\" class=\"dataframe\">\n",
       "  <thead>\n",
       "    <tr style=\"text-align: right;\">\n",
       "      <th></th>\n",
       "      <th>y_class</th>\n",
       "      <th>deuda</th>\n",
       "      <th>y_proba</th>\n",
       "      <th>utilidad</th>\n",
       "      <th>utilidad_acum</th>\n",
       "      <th>n_clientes</th>\n",
       "      <th>max_roi</th>\n",
       "    </tr>\n",
       "  </thead>\n",
       "  <tbody>\n",
       "    <tr>\n",
       "      <th>1339</th>\n",
       "      <td>1</td>\n",
       "      <td>40959</td>\n",
       "      <td>0.843515</td>\n",
       "      <td>7239.75</td>\n",
       "      <td>4032300.0</td>\n",
       "      <td>312</td>\n",
       "      <td>4032300.0</td>\n",
       "    </tr>\n",
       "  </tbody>\n",
       "</table>\n",
       "</div>"
      ],
      "text/plain": [
       "      y_class  deuda   y_proba  utilidad  utilidad_acum  n_clientes    max_roi\n",
       "1339        1  40959  0.843515   7239.75      4032300.0         312  4032300.0"
      ]
     },
     "execution_count": 268,
     "metadata": {},
     "output_type": "execute_result"
    }
   ],
   "source": [
    "(\n",
    "    c\n",
    "    .sort_values(by='y_proba', ascending=True)\n",
    "    .assign(utilidad_acum = lambda x: x.utilidad.cumsum(),\n",
    "            n_clientes = lambda x: x.y_class.cumsum())\n",
    "    .assign(max_roi = lambda x: x.utilidad_acum.max())\n",
    "    .query('utilidad_acum == max_roi')\n",
    ")"
   ]
  },
  {
   "cell_type": "code",
   "execution_count": 278,
   "metadata": {},
   "outputs": [],
   "source": [
    "ptg=np.linspace(0,1,101)"
   ]
  },
  {
   "cell_type": "code",
   "execution_count": 279,
   "metadata": {},
   "outputs": [
    {
     "name": "stdout",
     "output_type": "stream",
     "text": [
      "0.0\n",
      "      y_class  deuda  y_proba  utilidad  utilidad_acum  n_clientes  max_roi\n",
      "2119        1  12925   0.5004   -3000.0        -3000.0           1  -3000.0\n",
      "0.01\n",
      "      y_class  deuda  y_proba   utilidad  utilidad_acum  n_clientes    max_roi\n",
      "2119        1  12925   0.5004 -2872.0425     -2872.0425           1 -2872.0425\n",
      "0.02\n",
      "      y_class  deuda  y_proba  utilidad  utilidad_acum  n_clientes  max_roi\n",
      "2119        1  12925   0.5004  -2746.67       -2746.67           1 -2746.67\n",
      "0.03\n",
      "      y_class  deuda  y_proba   utilidad  utilidad_acum  n_clientes    max_roi\n",
      "2119        1  12925   0.5004 -2623.8825     -2623.8825           1 -2623.8825\n",
      "0.04\n",
      "      y_class  deuda  y_proba  utilidad  utilidad_acum  n_clientes  max_roi\n",
      "2119        1  12925   0.5004  -2503.68       -2503.68           1 -2503.68\n",
      "0.05\n",
      "     y_class   deuda   y_proba   utilidad  utilidad_acum  n_clientes  \\\n",
      "606        1  178367  0.732039  5472.4325      56630.545         266   \n",
      "\n",
      "       max_roi  \n",
      "606  56630.545  \n",
      "0.06\n",
      "     y_class  deuda   y_proba  utilidad  utilidad_acum  n_clientes     max_roi\n",
      "363        1  57477  0.739083  241.7028     219791.838         273  219791.838\n",
      "0.07\n",
      "     y_class  deuda   y_proba  utilidad  utilidad_acum  n_clientes  \\\n",
      "363        1  57477  0.739083  741.7527    380031.0045         273   \n",
      "\n",
      "         max_roi  \n",
      "363  380031.0045  \n",
      "0.08\n",
      "     y_class  deuda   y_proba   utilidad  utilidad_acum  n_clientes  \\\n",
      "363        1  57477  0.739083  1230.3072     536586.512         273   \n",
      "\n",
      "        max_roi  \n",
      "363  536586.512  \n",
      "0.09\n",
      "      y_class  deuda  y_proba  utilidad  utilidad_acum  n_clientes  \\\n",
      "1822        1  45870  0.83366   756.753    696568.2432         307   \n",
      "\n",
      "          max_roi  \n",
      "1822  696568.2432  \n",
      "0.1\n",
      "      y_class  deuda   y_proba  utilidad  utilidad_acum  n_clientes    max_roi\n",
      "2782        1  55892  0.837263   2030.28      856667.61         309  856667.61\n",
      "0.11\n",
      "      y_class  deuda   y_proba   utilidad  utilidad_acum  n_clientes  \\\n",
      "2782        1  55892  0.837263  2471.8268   1.013234e+06         309   \n",
      "\n",
      "           max_roi  \n",
      "2782  1.013234e+06  \n",
      "0.12\n",
      "      y_class  deuda   y_proba   utilidad  utilidad_acum  n_clientes  \\\n",
      "2782        1  55892  0.837263  2902.1952   1.165837e+06         309   \n",
      "\n",
      "           max_roi  \n",
      "2782  1.165837e+06  \n",
      "0.13\n",
      "      y_class  deuda   y_proba   utilidad  utilidad_acum  n_clientes  \\\n",
      "2782        1  55892  0.837263  3321.3852   1.314476e+06         309   \n",
      "\n",
      "           max_roi  \n",
      "2782  1.314476e+06  \n",
      "0.14\n",
      "      y_class  deuda   y_proba   utilidad  utilidad_acum  n_clientes  \\\n",
      "2782        1  55892  0.837263  3729.3968   1.459151e+06         309   \n",
      "\n",
      "           max_roi  \n",
      "2782  1.459151e+06  \n",
      "0.15\n",
      "      y_class  deuda   y_proba  utilidad  utilidad_acum  n_clientes  \\\n",
      "2782        1  55892  0.837263   4126.23   1.599862e+06         309   \n",
      "\n",
      "           max_roi  \n",
      "2782  1.599862e+06  \n",
      "0.16\n",
      "      y_class  deuda   y_proba   utilidad  utilidad_acum  n_clientes  \\\n",
      "2782        1  55892  0.837263  4511.8848   1.736610e+06         309   \n",
      "\n",
      "           max_roi  \n",
      "2782  1.736610e+06  \n",
      "0.17\n",
      "      y_class  deuda   y_proba   utilidad  utilidad_acum  n_clientes  \\\n",
      "2782        1  55892  0.837263  4886.3612   1.869394e+06         309   \n",
      "\n",
      "           max_roi  \n",
      "2782  1.869394e+06  \n",
      "0.18\n",
      "      y_class  deuda   y_proba   utilidad  utilidad_acum  n_clientes  \\\n",
      "2782        1  55892  0.837263  5249.6592   1.998215e+06         309   \n",
      "\n",
      "           max_roi  \n",
      "2782  1.998215e+06  \n",
      "0.19\n",
      "      y_class  deuda   y_proba   utilidad  utilidad_acum  n_clientes  \\\n",
      "2782        1  55892  0.837263  5601.7788   2.123072e+06         309   \n",
      "\n",
      "           max_roi  \n",
      "2782  2.123072e+06  \n",
      "0.2\n",
      "      y_class  deuda   y_proba  utilidad  utilidad_acum  n_clientes  \\\n",
      "2782        1  55892  0.837263   5942.72     2243964.64         309   \n",
      "\n",
      "         max_roi  \n",
      "2782  2243964.64  \n",
      "0.21\n",
      "      y_class  deuda   y_proba   utilidad  utilidad_acum  n_clientes  \\\n",
      "1339        1  40959  0.843515  3795.0981     2360963.88         312   \n",
      "\n",
      "         max_roi  \n",
      "1339  2360963.88  \n",
      "0.22\n",
      "      y_class  deuda   y_proba   utilidad  utilidad_acum  n_clientes  \\\n",
      "1339        1  40959  0.843515  4028.5644     2474241.12         312   \n",
      "\n",
      "         max_roi  \n",
      "1339  2474241.12  \n",
      "0.23\n",
      "      y_class  deuda   y_proba   utilidad  utilidad_acum  n_clientes  \\\n",
      "1339        1  40959  0.843515  4253.8389     2583543.72         312   \n",
      "\n",
      "         max_roi  \n",
      "1339  2583543.72  \n",
      "0.24\n",
      "      y_class  deuda   y_proba   utilidad  utilidad_acum  n_clientes  \\\n",
      "1339        1  40959  0.843515  4470.9216     2688871.68         312   \n",
      "\n",
      "         max_roi  \n",
      "1339  2688871.68  \n",
      "0.25\n",
      "      y_class  deuda   y_proba   utilidad  utilidad_acum  n_clientes  \\\n",
      "1339        1  40959  0.843515  4679.8125      2790225.0         312   \n",
      "\n",
      "        max_roi  \n",
      "1339  2790225.0  \n",
      "0.26\n",
      "      y_class  deuda   y_proba   utilidad  utilidad_acum  n_clientes  \\\n",
      "1339        1  40959  0.843515  4880.5116     2887603.68         312   \n",
      "\n",
      "         max_roi  \n",
      "1339  2887603.68  \n",
      "0.27\n",
      "      y_class  deuda   y_proba   utilidad  utilidad_acum  n_clientes  \\\n",
      "1339        1  40959  0.843515  5073.0189     2981007.72         312   \n",
      "\n",
      "         max_roi  \n",
      "1339  2981007.72  \n",
      "0.28\n",
      "      y_class  deuda   y_proba   utilidad  utilidad_acum  n_clientes  \\\n",
      "1339        1  40959  0.843515  5257.3344     3070437.12         312   \n",
      "\n",
      "         max_roi  \n",
      "1339  3070437.12  \n",
      "0.29\n",
      "      y_class  deuda   y_proba   utilidad  utilidad_acum  n_clientes  \\\n",
      "1339        1  40959  0.843515  5433.4581     3155891.88         312   \n",
      "\n",
      "         max_roi  \n",
      "1339  3155891.88  \n",
      "0.3\n",
      "      y_class  deuda   y_proba  utilidad  utilidad_acum  n_clientes    max_roi\n",
      "1339        1  40959  0.843515   5601.39      3237372.0         312  3237372.0\n",
      "0.31\n",
      "      y_class  deuda   y_proba   utilidad  utilidad_acum  n_clientes  \\\n",
      "1339        1  40959  0.843515  5761.1301     3314877.48         312   \n",
      "\n",
      "         max_roi  \n",
      "1339  3314877.48  \n",
      "0.32\n",
      "      y_class  deuda   y_proba   utilidad  utilidad_acum  n_clientes  \\\n",
      "1339        1  40959  0.843515  5912.6784     3388408.32         312   \n",
      "\n",
      "         max_roi  \n",
      "1339  3388408.32  \n",
      "0.33\n",
      "      y_class  deuda   y_proba   utilidad  utilidad_acum  n_clientes  \\\n",
      "1339        1  40959  0.843515  6056.0349     3457964.52         312   \n",
      "\n",
      "         max_roi  \n",
      "1339  3457964.52  \n",
      "0.34\n",
      "      y_class  deuda   y_proba   utilidad  utilidad_acum  n_clientes  \\\n",
      "1339        1  40959  0.843515  6191.1996     3523546.08         312   \n",
      "\n",
      "         max_roi  \n",
      "1339  3523546.08  \n",
      "0.35000000000000003\n",
      "      y_class  deuda   y_proba   utilidad  utilidad_acum  n_clientes  \\\n",
      "1339        1  40959  0.843515  6318.1725      3585153.0         312   \n",
      "\n",
      "        max_roi  \n",
      "1339  3585153.0  \n",
      "0.36\n",
      "      y_class  deuda   y_proba   utilidad  utilidad_acum  n_clientes  \\\n",
      "1339        1  40959  0.843515  6436.9536     3642785.28         312   \n",
      "\n",
      "         max_roi  \n",
      "1339  3642785.28  \n",
      "0.37\n",
      "      y_class  deuda   y_proba   utilidad  utilidad_acum  n_clientes  \\\n",
      "1339        1  40959  0.843515  6547.5429     3696442.92         312   \n",
      "\n",
      "         max_roi  \n",
      "1339  3696442.92  \n",
      "0.38\n",
      "      y_class  deuda   y_proba   utilidad  utilidad_acum  n_clientes  \\\n",
      "1339        1  40959  0.843515  6649.9404     3746125.92         312   \n",
      "\n",
      "         max_roi  \n",
      "1339  3746125.92  \n",
      "0.39\n",
      "      y_class  deuda   y_proba   utilidad  utilidad_acum  n_clientes  \\\n",
      "1339        1  40959  0.843515  6744.1461     3791834.28         312   \n",
      "\n",
      "         max_roi  \n",
      "1339  3791834.28  \n",
      "0.4\n",
      "      y_class  deuda   y_proba  utilidad  utilidad_acum  n_clientes    max_roi\n",
      "1339        1  40959  0.843515   6830.16      3833568.0         312  3833568.0\n",
      "0.41000000000000003\n",
      "      y_class  deuda   y_proba   utilidad  utilidad_acum  n_clientes  \\\n",
      "1339        1  40959  0.843515  6907.9821     3871327.08         312   \n",
      "\n",
      "         max_roi  \n",
      "1339  3871327.08  \n",
      "0.42\n",
      "      y_class  deuda   y_proba   utilidad  utilidad_acum  n_clientes  \\\n",
      "1339        1  40959  0.843515  6977.6124     3905111.52         312   \n",
      "\n",
      "         max_roi  \n",
      "1339  3905111.52  \n",
      "0.43\n",
      "      y_class  deuda   y_proba   utilidad  utilidad_acum  n_clientes  \\\n",
      "1339        1  40959  0.843515  7039.0509     3934921.32         312   \n",
      "\n",
      "         max_roi  \n",
      "1339  3934921.32  \n",
      "0.44\n",
      "      y_class  deuda   y_proba   utilidad  utilidad_acum  n_clientes  \\\n",
      "1339        1  40959  0.843515  7092.2976     3960756.48         312   \n",
      "\n",
      "         max_roi  \n",
      "1339  3960756.48  \n"
     ]
    },
    {
     "name": "stdout",
     "output_type": "stream",
     "text": [
      "0.45\n",
      "      y_class  deuda   y_proba   utilidad  utilidad_acum  n_clientes  \\\n",
      "1339        1  40959  0.843515  7137.3525      3982617.0         312   \n",
      "\n",
      "        max_roi  \n",
      "1339  3982617.0  \n",
      "0.46\n",
      "      y_class  deuda   y_proba   utilidad  utilidad_acum  n_clientes  \\\n",
      "1339        1  40959  0.843515  7174.2156     4000502.88         312   \n",
      "\n",
      "         max_roi  \n",
      "1339  4000502.88  \n",
      "0.47000000000000003\n",
      "      y_class  deuda   y_proba   utilidad  utilidad_acum  n_clientes  \\\n",
      "1339        1  40959  0.843515  7202.8869     4014414.12         312   \n",
      "\n",
      "         max_roi  \n",
      "1339  4014414.12  \n",
      "0.48\n",
      "      y_class  deuda   y_proba   utilidad  utilidad_acum  n_clientes  \\\n",
      "1339        1  40959  0.843515  7223.3664     4024350.72         312   \n",
      "\n",
      "         max_roi  \n",
      "1339  4024350.72  \n",
      "0.49\n",
      "      y_class  deuda   y_proba   utilidad  utilidad_acum  n_clientes  \\\n",
      "1339        1  40959  0.843515  7235.6541     4030312.68         312   \n",
      "\n",
      "         max_roi  \n",
      "1339  4030312.68  \n",
      "0.5\n",
      "      y_class  deuda   y_proba  utilidad  utilidad_acum  n_clientes    max_roi\n",
      "1339        1  40959  0.843515   7239.75      4032300.0         312  4032300.0\n",
      "0.51\n",
      "      y_class  deuda   y_proba   utilidad  utilidad_acum  n_clientes  \\\n",
      "1339        1  40959  0.843515  7235.6541     4030312.68         312   \n",
      "\n",
      "         max_roi  \n",
      "1339  4030312.68  \n",
      "0.52\n",
      "      y_class  deuda   y_proba   utilidad  utilidad_acum  n_clientes  \\\n",
      "1339        1  40959  0.843515  7223.3664     4024350.72         312   \n",
      "\n",
      "         max_roi  \n",
      "1339  4024350.72  \n",
      "0.53\n",
      "      y_class  deuda   y_proba   utilidad  utilidad_acum  n_clientes  \\\n",
      "1339        1  40959  0.843515  7202.8869     4014414.12         312   \n",
      "\n",
      "         max_roi  \n",
      "1339  4014414.12  \n",
      "0.54\n",
      "      y_class  deuda   y_proba   utilidad  utilidad_acum  n_clientes  \\\n",
      "1339        1  40959  0.843515  7174.2156     4000502.88         312   \n",
      "\n",
      "         max_roi  \n",
      "1339  4000502.88  \n",
      "0.55\n",
      "      y_class  deuda   y_proba   utilidad  utilidad_acum  n_clientes  \\\n",
      "1339        1  40959  0.843515  7137.3525      3982617.0         312   \n",
      "\n",
      "        max_roi  \n",
      "1339  3982617.0  \n",
      "0.56\n",
      "      y_class  deuda   y_proba   utilidad  utilidad_acum  n_clientes  \\\n",
      "1339        1  40959  0.843515  7092.2976     3960756.48         312   \n",
      "\n",
      "         max_roi  \n",
      "1339  3960756.48  \n",
      "0.5700000000000001\n",
      "      y_class  deuda   y_proba   utilidad  utilidad_acum  n_clientes  \\\n",
      "1339        1  40959  0.843515  7039.0509     3934921.32         312   \n",
      "\n",
      "         max_roi  \n",
      "1339  3934921.32  \n",
      "0.58\n",
      "      y_class  deuda   y_proba   utilidad  utilidad_acum  n_clientes  \\\n",
      "1339        1  40959  0.843515  6977.6124     3905111.52         312   \n",
      "\n",
      "         max_roi  \n",
      "1339  3905111.52  \n",
      "0.59\n",
      "      y_class  deuda   y_proba   utilidad  utilidad_acum  n_clientes  \\\n",
      "1339        1  40959  0.843515  6907.9821     3871327.08         312   \n",
      "\n",
      "         max_roi  \n",
      "1339  3871327.08  \n",
      "0.6\n",
      "      y_class  deuda   y_proba  utilidad  utilidad_acum  n_clientes    max_roi\n",
      "1339        1  40959  0.843515   6830.16      3833568.0         312  3833568.0\n",
      "0.61\n",
      "      y_class  deuda   y_proba   utilidad  utilidad_acum  n_clientes  \\\n",
      "1339        1  40959  0.843515  6744.1461     3791834.28         312   \n",
      "\n",
      "         max_roi  \n",
      "1339  3791834.28  \n",
      "0.62\n",
      "      y_class  deuda   y_proba   utilidad  utilidad_acum  n_clientes  \\\n",
      "1339        1  40959  0.843515  6649.9404     3746125.92         312   \n",
      "\n",
      "         max_roi  \n",
      "1339  3746125.92  \n",
      "0.63\n",
      "      y_class  deuda   y_proba   utilidad  utilidad_acum  n_clientes  \\\n",
      "1339        1  40959  0.843515  6547.5429     3696442.92         312   \n",
      "\n",
      "         max_roi  \n",
      "1339  3696442.92  \n",
      "0.64\n",
      "      y_class  deuda   y_proba   utilidad  utilidad_acum  n_clientes  \\\n",
      "1339        1  40959  0.843515  6436.9536     3642785.28         312   \n",
      "\n",
      "         max_roi  \n",
      "1339  3642785.28  \n",
      "0.65\n",
      "      y_class  deuda   y_proba   utilidad  utilidad_acum  n_clientes  \\\n",
      "1339        1  40959  0.843515  6318.1725      3585153.0         312   \n",
      "\n",
      "        max_roi  \n",
      "1339  3585153.0  \n",
      "0.66\n",
      "      y_class  deuda   y_proba   utilidad  utilidad_acum  n_clientes  \\\n",
      "1339        1  40959  0.843515  6191.1996     3523546.08         312   \n",
      "\n",
      "         max_roi  \n",
      "1339  3523546.08  \n",
      "0.67\n",
      "      y_class  deuda   y_proba   utilidad  utilidad_acum  n_clientes  \\\n",
      "1339        1  40959  0.843515  6056.0349     3457964.52         312   \n",
      "\n",
      "         max_roi  \n",
      "1339  3457964.52  \n",
      "0.68\n",
      "      y_class  deuda   y_proba   utilidad  utilidad_acum  n_clientes  \\\n",
      "1339        1  40959  0.843515  5912.6784     3388408.32         312   \n",
      "\n",
      "         max_roi  \n",
      "1339  3388408.32  \n",
      "0.6900000000000001\n",
      "      y_class  deuda   y_proba   utilidad  utilidad_acum  n_clientes  \\\n",
      "1339        1  40959  0.843515  5761.1301     3314877.48         312   \n",
      "\n",
      "         max_roi  \n",
      "1339  3314877.48  \n",
      "0.7000000000000001\n",
      "      y_class  deuda   y_proba  utilidad  utilidad_acum  n_clientes    max_roi\n",
      "1339        1  40959  0.843515   5601.39      3237372.0         312  3237372.0\n",
      "0.71\n",
      "      y_class  deuda   y_proba   utilidad  utilidad_acum  n_clientes  \\\n",
      "1339        1  40959  0.843515  5433.4581     3155891.88         312   \n",
      "\n",
      "         max_roi  \n",
      "1339  3155891.88  \n",
      "0.72\n",
      "      y_class  deuda   y_proba   utilidad  utilidad_acum  n_clientes  \\\n",
      "1339        1  40959  0.843515  5257.3344     3070437.12         312   \n",
      "\n",
      "         max_roi  \n",
      "1339  3070437.12  \n",
      "0.73\n",
      "      y_class  deuda   y_proba   utilidad  utilidad_acum  n_clientes  \\\n",
      "1339        1  40959  0.843515  5073.0189     2981007.72         312   \n",
      "\n",
      "         max_roi  \n",
      "1339  2981007.72  \n",
      "0.74\n",
      "      y_class  deuda   y_proba   utilidad  utilidad_acum  n_clientes  \\\n",
      "1339        1  40959  0.843515  4880.5116     2887603.68         312   \n",
      "\n",
      "         max_roi  \n",
      "1339  2887603.68  \n",
      "0.75\n",
      "      y_class  deuda   y_proba   utilidad  utilidad_acum  n_clientes  \\\n",
      "1339        1  40959  0.843515  4679.8125      2790225.0         312   \n",
      "\n",
      "        max_roi  \n",
      "1339  2790225.0  \n",
      "0.76\n",
      "      y_class  deuda   y_proba   utilidad  utilidad_acum  n_clientes  \\\n",
      "1339        1  40959  0.843515  4470.9216     2688871.68         312   \n",
      "\n",
      "         max_roi  \n",
      "1339  2688871.68  \n",
      "0.77\n",
      "      y_class  deuda   y_proba   utilidad  utilidad_acum  n_clientes  \\\n",
      "1339        1  40959  0.843515  4253.8389     2583543.72         312   \n",
      "\n",
      "         max_roi  \n",
      "1339  2583543.72  \n",
      "0.78\n",
      "      y_class  deuda   y_proba   utilidad  utilidad_acum  n_clientes  \\\n",
      "1339        1  40959  0.843515  4028.5644     2474241.12         312   \n",
      "\n",
      "         max_roi  \n",
      "1339  2474241.12  \n",
      "0.79\n",
      "      y_class  deuda   y_proba   utilidad  utilidad_acum  n_clientes  \\\n",
      "1339        1  40959  0.843515  3795.0981     2360963.88         312   \n",
      "\n",
      "         max_roi  \n",
      "1339  2360963.88  \n",
      "0.8\n",
      "      y_class  deuda   y_proba  utilidad  utilidad_acum  n_clientes  \\\n",
      "2782        1  55892  0.837263   5942.72     2243964.64         309   \n",
      "\n",
      "         max_roi  \n",
      "2782  2243964.64  \n",
      "0.81\n",
      "      y_class  deuda   y_proba   utilidad  utilidad_acum  n_clientes  \\\n",
      "2782        1  55892  0.837263  5601.7788   2.123072e+06         309   \n",
      "\n",
      "           max_roi  \n",
      "2782  2.123072e+06  \n",
      "0.8200000000000001\n",
      "      y_class  deuda   y_proba   utilidad  utilidad_acum  n_clientes  \\\n",
      "2782        1  55892  0.837263  5249.6592   1.998215e+06         309   \n",
      "\n",
      "           max_roi  \n",
      "2782  1.998215e+06  \n",
      "0.8300000000000001\n",
      "      y_class  deuda   y_proba   utilidad  utilidad_acum  n_clientes  \\\n",
      "2782        1  55892  0.837263  4886.3612   1.869394e+06         309   \n",
      "\n",
      "           max_roi  \n",
      "2782  1.869394e+06  \n",
      "0.84\n",
      "      y_class  deuda   y_proba   utilidad  utilidad_acum  n_clientes  \\\n",
      "2782        1  55892  0.837263  4511.8848   1.736610e+06         309   \n",
      "\n",
      "           max_roi  \n",
      "2782  1.736610e+06  \n",
      "0.85\n",
      "      y_class  deuda   y_proba  utilidad  utilidad_acum  n_clientes  \\\n",
      "2782        1  55892  0.837263   4126.23   1.599862e+06         309   \n",
      "\n",
      "           max_roi  \n",
      "2782  1.599862e+06  \n",
      "0.86\n",
      "      y_class  deuda   y_proba   utilidad  utilidad_acum  n_clientes  \\\n",
      "2782        1  55892  0.837263  3729.3968   1.459151e+06         309   \n",
      "\n",
      "           max_roi  \n",
      "2782  1.459151e+06  \n",
      "0.87\n",
      "      y_class  deuda   y_proba   utilidad  utilidad_acum  n_clientes  \\\n",
      "2782        1  55892  0.837263  3321.3852   1.314476e+06         309   \n",
      "\n",
      "           max_roi  \n",
      "2782  1.314476e+06  \n",
      "0.88\n",
      "      y_class  deuda   y_proba   utilidad  utilidad_acum  n_clientes  \\\n",
      "2782        1  55892  0.837263  2902.1952   1.165837e+06         309   \n",
      "\n",
      "           max_roi  \n",
      "2782  1.165837e+06  \n"
     ]
    },
    {
     "name": "stdout",
     "output_type": "stream",
     "text": [
      "0.89\n",
      "      y_class  deuda   y_proba   utilidad  utilidad_acum  n_clientes  \\\n",
      "2782        1  55892  0.837263  2471.8268   1.013234e+06         309   \n",
      "\n",
      "           max_roi  \n",
      "2782  1.013234e+06  \n",
      "0.9\n",
      "      y_class  deuda   y_proba  utilidad  utilidad_acum  n_clientes    max_roi\n",
      "2782        1  55892  0.837263   2030.28      856667.61         309  856667.61\n",
      "0.91\n",
      "      y_class  deuda  y_proba  utilidad  utilidad_acum  n_clientes  \\\n",
      "1822        1  45870  0.83366   756.753    696568.2432         307   \n",
      "\n",
      "          max_roi  \n",
      "1822  696568.2432  \n",
      "0.92\n",
      "     y_class  deuda   y_proba   utilidad  utilidad_acum  n_clientes  \\\n",
      "363        1  57477  0.739083  1230.3072     536586.512         273   \n",
      "\n",
      "        max_roi  \n",
      "363  536586.512  \n",
      "0.93\n",
      "     y_class  deuda   y_proba  utilidad  utilidad_acum  n_clientes  \\\n",
      "363        1  57477  0.739083  741.7527    380031.0045         273   \n",
      "\n",
      "         max_roi  \n",
      "363  380031.0045  \n",
      "0.9400000000000001\n",
      "     y_class  deuda   y_proba  utilidad  utilidad_acum  n_clientes     max_roi\n",
      "363        1  57477  0.739083  241.7028     219791.838         273  219791.838\n",
      "0.9500000000000001\n",
      "     y_class   deuda   y_proba   utilidad  utilidad_acum  n_clientes  \\\n",
      "606        1  178367  0.732039  5472.4325      56630.545         266   \n",
      "\n",
      "       max_roi  \n",
      "606  56630.545  \n",
      "0.96\n",
      "      y_class  deuda  y_proba  utilidad  utilidad_acum  n_clientes  max_roi\n",
      "2119        1  12925   0.5004  -2503.68       -2503.68           1 -2503.68\n",
      "0.97\n",
      "      y_class  deuda  y_proba   utilidad  utilidad_acum  n_clientes    max_roi\n",
      "2119        1  12925   0.5004 -2623.8825     -2623.8825           1 -2623.8825\n",
      "0.98\n",
      "      y_class  deuda  y_proba  utilidad  utilidad_acum  n_clientes  max_roi\n",
      "2119        1  12925   0.5004  -2746.67       -2746.67           1 -2746.67\n",
      "0.99\n",
      "      y_class  deuda  y_proba   utilidad  utilidad_acum  n_clientes    max_roi\n",
      "2119        1  12925   0.5004 -2872.0425     -2872.0425           1 -2872.0425\n",
      "1.0\n",
      "      y_class  deuda  y_proba  utilidad  utilidad_acum  n_clientes  max_roi\n",
      "2119        1  12925   0.5004   -3000.0        -3000.0           1  -3000.0\n"
     ]
    }
   ],
   "source": [
    "x=0\n",
    "i=0\n",
    "for x in ptg:\n",
    "    pro=x\n",
    "    cond=x\n",
    "\n",
    "    df=pd.DataFrame({\n",
    "    'y_class': rf_final.predict(predTarjeta),\n",
    "    'deuda': predTarjeta.BILL_AMT1,\n",
    "    'y_proba': rf_final.predict_proba(predTarjeta)[:,1],\n",
    "    'utilidad': predTarjeta.BILL_AMT1*(1-cond)*pro -costo\n",
    "    })\n",
    "    \n",
    "    \n",
    "    f=df.loc[decision_df['y_class'] == 1]\n",
    "    print(x)\n",
    "    print(\n",
    "    f\n",
    "    .sort_values(by='y_proba', ascending=True)\n",
    "    .assign(utilidad_acum = lambda x: x.utilidad.cumsum(),\n",
    "            n_clientes = lambda x: x.y_class.cumsum())\n",
    "    .assign(max_roi = lambda x: x.utilidad_acum.max())\n",
    "    .query('utilidad_acum == max_roi')\n",
    "    )"
   ]
  },
  {
   "cell_type": "markdown",
   "metadata": {},
   "source": [
    "**Pregunta 4**. ¿Cuál es el porcentaje que esperas que te dé más utilidad si la regla general fuera que cuando perdonas X% te pagan el X% de las personas?\n",
    "\n",
    "* *X*: 50%"
   ]
  },
  {
   "cell_type": "code",
   "execution_count": null,
   "metadata": {},
   "outputs": [],
   "source": []
  }
 ],
 "metadata": {
  "kernelspec": {
   "display_name": "Python 3",
   "language": "python",
   "name": "python3"
  },
  "language_info": {
   "codemirror_mode": {
    "name": "ipython",
    "version": 3
   },
   "file_extension": ".py",
   "mimetype": "text/x-python",
   "name": "python",
   "nbconvert_exporter": "python",
   "pygments_lexer": "ipython3",
   "version": "3.7.1"
  }
 },
 "nbformat": 4,
 "nbformat_minor": 2
}
